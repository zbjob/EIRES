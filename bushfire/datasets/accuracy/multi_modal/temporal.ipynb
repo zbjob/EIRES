{
 "cells": [
  {
   "cell_type": "code",
   "execution_count": 14,
   "metadata": {},
   "outputs": [
    {
     "data": {
      "image/png": "[encoded data removed]",
      "text/plain": [
       "<Figure size 374.4x252 with 1 Axes>"
      ]
     },
     "metadata": {
      "needs_background": "light"
     },
     "output_type": "display_data"
    }
   ],
   "source": [
    "import seaborn as sns\n",
    "import matplotlib.pyplot as plt\n",
    "import pandas as pd\n",
    "# import matplotlib \n",
    "import itertools\n",
    "import numpy as np\n",
    "data = pd.read_csv(\"time.csv\", delimiter=',', header=0) \n",
    "uteprecisions =[]\n",
    "uterecall =[]\n",
    "\n",
    "precisions50 = []\n",
    "precisions80 = []\n",
    "recalls50 = []\n",
    "recalls80 = []\n",
    "carrrecall = []\n",
    "for index, row in data.iterrows():\n",
    "    if row[\"Time\"] == 'With':\n",
    "        precisions50.append(row[\"F1\"]/100)\n",
    "        recalls50.append(row[\"Recall\"]/100)\n",
    "    if row[\"Time\"] == 'Without':\n",
    "        precisions80.append(row[\"F1\"]/100)\n",
    "        recalls80.append(row[\"Recall\"]/100)\n",
    "bar_width = 0.2\n",
    "opacity = 0.85\n",
    "plt.figure(figsize=(5.2,3.5))\n",
    "\n",
    "ax2 = plt.subplot(111)\n",
    "index = np.arange(4)\n",
    "rects3 = ax2.bar(index, precisions50, bar_width, edgecolor = \"black\",  color=\"white\", label='Temporal')\n",
    "rects4 = ax2.bar(index + bar_width, precisions80, bar_width, alpha=1,edgecolor = \"black\",  color=\"white\", hatch =\"////\",label='Non-temporal')\n",
    "ax2.set_ylim(0.8, 1)\n",
    "# plt.xlabel('Fires')\n",
    "plt.ylabel(' Weighted F1', fontsize=14)\n",
    "# plt.title('Precision', fontsize=10)\n",
    "plt.grid(True, color='#8b8b8d', linestyle='dotted', alpha=0.5)\n",
    "plt.xticks(index + bar_width/2, ('County', 'Camp',  'Woolsey', 'Kincade'), fontsize=14)\n",
    "plt.xticks(fontsize=14)\n",
    "plt.yticks(fontsize=14)\n",
    "# ax1 = plt.subplot(122)\n",
    "# index = np.arange(4)\n",
    "# plt.grid(True, color='#8b8b8d', linestyle='dotted', alpha=0.5)\n",
    "# rects1 = ax1.bar(index, recalls50, bar_width, edgecolor = \"black\",  color=\"white\",label='Temporal')\n",
    "# rects2 = ax1.bar(index + bar_width, recalls80, bar_width,alpha=1, edgecolor = \"#353535\",  color=\"#2070b4\", label='Non-temporal')\n",
    "# ax1.set_ylim(0.8, 1)\n",
    "# plt.ylabel('Recall')\n",
    "# plt.xticks(index + bar_width/2, ('UTE', 'Camp', 'Carr','Ferguson'))\n",
    "plt.locator_params(axis='y', nbins=5)\n",
    "handles, labels = ax2.get_legend_handles_labels()\n",
    "plt.legend(handles[::1], labels[::1],bbox_to_anchor=(0.01, 1.05, 0, .142), loc=3,\n",
    "           ncol=2, mode=\"collapse\", frameon=False, fontsize=14)\n",
    "\n",
    "plt.tight_layout()\n",
    "\n",
    "plt.savefig('../../figures/temporal_eval.png')"
   ]
  },
  {
   "cell_type": "code",
   "execution_count": null,
   "metadata": {},
   "outputs": [],
   "source": []
  }
 ],
 "metadata": {
  "kernelspec": {
   "display_name": "Python 3",
   "language": "python",
   "name": "python3"
  },
  "language_info": {
   "codemirror_mode": {
    "name": "ipython",
    "version": 3
   },
   "file_extension": ".py",
   "mimetype": "text/x-python",
   "name": "python",
   "nbconvert_exporter": "python",
   "pygments_lexer": "ipython3",
   "version": "3.6.7"
  }
 },
 "nbformat": 4,
 "nbformat_minor": 2
}
